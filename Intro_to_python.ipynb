{
  "nbformat": 4,
  "nbformat_minor": 0,
  "metadata": {
    "colab": {
      "provenance": [],
      "authorship_tag": "ABX9TyNePLJPzuNGColmBuZu9fgE",
      "include_colab_link": true
    },
    "kernelspec": {
      "name": "python3",
      "display_name": "Python 3"
    },
    "language_info": {
      "name": "python"
    }
  },
  "cells": [
    {
      "cell_type": "markdown",
      "metadata": {
        "id": "view-in-github",
        "colab_type": "text"
      },
      "source": [
        "<a href=\"https://colab.research.google.com/github/alixosravi/python-L/blob/main/Intro_to_python.ipynb\" target=\"_parent\"><img src=\"https://colab.research.google.com/assets/colab-badge.svg\" alt=\"Open In Colab\"/></a>"
      ]
    },
    {
      "cell_type": "code",
      "execution_count": null,
      "metadata": {
        "colab": {
          "base_uri": "https://localhost:8080/",
          "height": 35
        },
        "id": "oR3jRDK2RW89",
        "outputId": "49decb4c-4ddd-4b77-9e02-c61776efc7bc"
      },
      "outputs": [
        {
          "output_type": "execute_result",
          "data": {
            "text/plain": [
              "'ali khosravi'"
            ],
            "application/vnd.google.colaboratory.intrinsic+json": {
              "type": "string"
            }
          },
          "metadata": {},
          "execution_count": 7
        }
      ],
      "source": [
        "'ali '+'khosravi'"
      ]
    },
    {
      "cell_type": "code",
      "source": [
        "first_name = 'Ali'\n",
        "last_name ='Khosravi'\n",
        "win_ver = 11\n",
        "build_num = 1945654.65245\n",
        "\n",
        "x, y, z =34, 4.5, 1.234\n",
        "x, y, z"
      ],
      "metadata": {
        "colab": {
          "base_uri": "https://localhost:8080/"
        },
        "id": "inNyhHinSy19",
        "outputId": "e99db2d8-0f32-4a0a-e3d4-46d33ea31fdb"
      },
      "execution_count": null,
      "outputs": [
        {
          "output_type": "execute_result",
          "data": {
            "text/plain": [
              "(34, 4.5, 1.234)"
            ]
          },
          "metadata": {},
          "execution_count": 13
        }
      ]
    },
    {
      "cell_type": "code",
      "source": [
        "full_name = first_name + ' ' + last_name\n",
        "full_name"
      ],
      "metadata": {
        "colab": {
          "base_uri": "https://localhost:8080/",
          "height": 35
        },
        "id": "Wlo9X_tkTctk",
        "outputId": "978376b8-7460-469b-aa11-c15252992d2e"
      },
      "execution_count": null,
      "outputs": [
        {
          "output_type": "execute_result",
          "data": {
            "text/plain": [
              "'Ali Khosravi'"
            ],
            "application/vnd.google.colaboratory.intrinsic+json": {
              "type": "string"
            }
          },
          "metadata": {},
          "execution_count": 9
        }
      ]
    },
    {
      "cell_type": "code",
      "source": [
        "print(full_name)"
      ],
      "metadata": {
        "colab": {
          "base_uri": "https://localhost:8080/"
        },
        "id": "u8Dld7hTTsg7",
        "outputId": "5376307c-2348-47d7-eabd-ff8c8f0cd39f"
      },
      "execution_count": null,
      "outputs": [
        {
          "output_type": "stream",
          "name": "stdout",
          "text": [
            "Ali Khosravi\n"
          ]
        }
      ]
    },
    {
      "cell_type": "code",
      "source": [
        "message = f'{first_name} is using windows {win_ver} build: {build_num:0.2f}'\n",
        "print(message)"
      ],
      "metadata": {
        "colab": {
          "base_uri": "https://localhost:8080/"
        },
        "id": "3DrXlFvQUBKt",
        "outputId": "ace07a20-55db-4535-cb7d-46107edfca24"
      },
      "execution_count": null,
      "outputs": [
        {
          "output_type": "stream",
          "name": "stdout",
          "text": [
            "Ali is using windows 11 build: 1945654.65\n"
          ]
        }
      ]
    },
    {
      "cell_type": "code",
      "source": [
        "input_name = input('Enter your name:')\n",
        "print(f'Hello {input_name}')"
      ],
      "metadata": {
        "colab": {
          "base_uri": "https://localhost:8080/"
        },
        "id": "DHZ09-9zVTez",
        "outputId": "62fe23dd-06a6-4a8e-e4b1-b136e0a5d7c9"
      },
      "execution_count": null,
      "outputs": [
        {
          "output_type": "stream",
          "name": "stdout",
          "text": [
            "Enter your name:ali\n",
            "Hello ali\n"
          ]
        }
      ]
    },
    {
      "cell_type": "code",
      "source": [
        "float(9599)"
      ],
      "metadata": {
        "colab": {
          "base_uri": "https://localhost:8080/"
        },
        "id": "tt9QYjfIWQlN",
        "outputId": "251e7e97-bc46-4751-b2f1-c0fa924b19c4"
      },
      "execution_count": null,
      "outputs": [
        {
          "output_type": "execute_result",
          "data": {
            "text/plain": [
              "9599.0"
            ]
          },
          "metadata": {},
          "execution_count": 22
        }
      ]
    },
    {
      "cell_type": "code",
      "source": [
        "number_of_pets =int(input('How many pets do you have?'))\n",
        "print(f'I guess you have {number_of_pets//2} dogs!')"
      ],
      "metadata": {
        "colab": {
          "base_uri": "https://localhost:8080/"
        },
        "id": "_liIUeRSXJ0i",
        "outputId": "2c2460ed-9537-439e-c9cd-7e8ff080e0a0"
      },
      "execution_count": null,
      "outputs": [
        {
          "output_type": "stream",
          "name": "stdout",
          "text": [
            "How many pets do you have?4\n",
            "I guess you have 2 dogs!\n"
          ]
        }
      ]
    },
    {
      "cell_type": "code",
      "source": [],
      "metadata": {
        "colab": {
          "base_uri": "https://localhost:8080/"
        },
        "id": "VBqPgRWkY3s_",
        "outputId": "c6739b3c-d9ba-4021-c22e-8758a20d5526"
      },
      "execution_count": null,
      "outputs": [
        {
          "output_type": "stream",
          "name": "stdout",
          "text": [
            "False\n"
          ]
        }
      ]
    },
    {
      "cell_type": "code",
      "source": [
        "p_cat =0.5\n",
        "p_dog =0.5\n",
        "\n",
        "if p_cat > p_dog:\n",
        "  print(\"It's a cat!\")\n",
        "elif p_cat < p_dog:\n",
        "  print(\"It's a dag!\")\n",
        "else:\n",
        "  print(\"I can't decide :(\")"
      ],
      "metadata": {
        "colab": {
          "base_uri": "https://localhost:8080/"
        },
        "id": "zyG95pRxZTAG",
        "outputId": "4ebf4b59-0be3-4d96-ee54-9917a346923c"
      },
      "execution_count": null,
      "outputs": [
        {
          "output_type": "stream",
          "name": "stdout",
          "text": [
            "I can't decide :(\n"
          ]
        }
      ]
    },
    {
      "cell_type": "code",
      "source": [
        "while True:\n",
        "  input_str =input(\"Enter p_cat:\")\n",
        "  if input_str == \"exit\":\n",
        "    break\n",
        "\n",
        "  p_cat = float(input_str)\n",
        "  if (p_cat <0) or (p_cat >0):\n",
        "    print('p_cat must be between 0 and 1')\n",
        "    continue\n",
        "    \n",
        "  p_dog = 1 - p_cat\n",
        "\n",
        "  if p_cat > p_dog:\n",
        "    print(\"It's a cat!\")\n",
        "  elif p_cat < p_dog:\n",
        "    print(\"It's a dag!\")\n",
        "  else:\n",
        "    print(\"I can't decide :(\")"
      ],
      "metadata": {
        "colab": {
          "base_uri": "https://localhost:8080/"
        },
        "id": "HO38xmYkc2Ch",
        "outputId": "69063327-c902-4c5a-9808-01d7111f5ffe"
      },
      "execution_count": null,
      "outputs": [
        {
          "name": "stdout",
          "output_type": "stream",
          "text": [
            "Enter p_cat:0.9\n",
            "p_cat must be between 0 and 1\n",
            "Enter p_cat:5545\n",
            "p_cat must be between 0 and 1\n",
            "Enter p_cat:-666\n",
            "p_cat must be between 0 and 1\n",
            "Enter p_cat:exit\n"
          ]
        }
      ]
    },
    {
      "cell_type": "code",
      "source": [
        "for i in range(6, -5,-1):\n",
        "  print(i)"
      ],
      "metadata": {
        "colab": {
          "base_uri": "https://localhost:8080/"
        },
        "id": "Avi45N5UeF4l",
        "outputId": "c142f553-b79a-4f09-ab12-8413f5b05e75"
      },
      "execution_count": null,
      "outputs": [
        {
          "output_type": "stream",
          "name": "stdout",
          "text": [
            "6\n",
            "5\n",
            "4\n",
            "3\n",
            "2\n",
            "1\n",
            "0\n",
            "-1\n",
            "-2\n",
            "-3\n",
            "-4\n"
          ]
        }
      ]
    },
    {
      "cell_type": "code",
      "source": [
        "for _ in range(3):\n",
        "  print(_)"
      ],
      "metadata": {
        "colab": {
          "base_uri": "https://localhost:8080/"
        },
        "id": "iHfbCMD6hC3E",
        "outputId": "1e61211f-a6d2-4456-e1c2-8fd35aa457b0"
      },
      "execution_count": null,
      "outputs": [
        {
          "output_type": "stream",
          "name": "stdout",
          "text": [
            "0\n",
            "1\n",
            "2\n"
          ]
        }
      ]
    },
    {
      "cell_type": "code",
      "source": [
        "for _ in range(3):\n",
        "  print(\"I like python!\")"
      ],
      "metadata": {
        "colab": {
          "base_uri": "https://localhost:8080/"
        },
        "id": "YobuDltzh5vq",
        "outputId": "1b0fffa0-d212-4189-99a3-ffbb573b709b"
      },
      "execution_count": null,
      "outputs": [
        {
          "output_type": "stream",
          "name": "stdout",
          "text": [
            "I like python!\n",
            "I like python!\n",
            "I like python!\n"
          ]
        }
      ]
    },
    {
      "cell_type": "code",
      "source": [
        "def print_name(name):\n",
        "  '''\n",
        "  Simple function to print name\n",
        "  input: name\n",
        "  '''\n",
        "  # Simple function to print name\n",
        "  print(f\"Hello! {name}\")\n",
        "\n",
        "print_name(\"Ali\")"
      ],
      "metadata": {
        "colab": {
          "base_uri": "https://localhost:8080/"
        },
        "id": "mqh9yCUIiG9p",
        "outputId": "6bc4c36f-0bdf-400f-cad1-09eee0add04d"
      },
      "execution_count": null,
      "outputs": [
        {
          "output_type": "stream",
          "name": "stdout",
          "text": [
            "Hello! Ali\n"
          ]
        }
      ]
    },
    {
      "cell_type": "code",
      "source": [
        "def prob_to_name(p_cat: float, breed: str, owner=None, pet_age=5) -> str:\n",
        "  ''' \n",
        "  predict between cat and dog and print message\n",
        "  '''\n",
        "  if  p_cat > 0.5:\n",
        "    prediction = 'Cat'\n",
        "  elif p_cat < 0.5:\n",
        "    prediction = 'Dog'\n",
        "  else:\n",
        "    prediction = \"Unknown\"\n",
        "\n",
        "  if owner is not None:\n",
        "    print(f\"{owner} has a {breed} {prediction} who's {pet_age} years old!\")\n",
        "  else:\n",
        "    print(f\"This {breed} is {prediction} {pet_age} years old!\")\n",
        "  return prediction\n"
      ],
      "metadata": {
        "id": "uSUzADTvkoPZ"
      },
      "execution_count": null,
      "outputs": []
    },
    {
      "cell_type": "code",
      "source": [
        "pred = prob_to_name(0.8, \"persian\", pet_age=5)"
      ],
      "metadata": {
        "colab": {
          "base_uri": "https://localhost:8080/"
        },
        "id": "kuA1lpeanB_V",
        "outputId": "2f04d160-d97b-4140-ea75-e3a0e412156d"
      },
      "execution_count": null,
      "outputs": [
        {
          "output_type": "stream",
          "name": "stdout",
          "text": [
            "This persian is Cat 5 years old!\n"
          ]
        }
      ]
    },
    {
      "cell_type": "code",
      "source": [
        "print(pred)"
      ],
      "metadata": {
        "id": "obAJIoZCnGCP",
        "colab": {
          "base_uri": "https://localhost:8080/"
        },
        "outputId": "69cc6aea-5c19-46a9-ec65-450573875b68"
      },
      "execution_count": null,
      "outputs": [
        {
          "output_type": "stream",
          "name": "stdout",
          "text": [
            "Cat\n"
          ]
        }
      ]
    },
    {
      "cell_type": "code",
      "source": [
        "num_list =[3, 5, 6, 4]\n",
        "name_list = ['Ali', 'Jack', 'Jane', 'Joe']\n",
        "comb_list = [3.4, 'Sam', 31, True, 'Dlnia']"
      ],
      "metadata": {
        "id": "9hddTKWHNadi"
      },
      "execution_count": 7,
      "outputs": []
    },
    {
      "cell_type": "code",
      "source": [
        "len(name_list)\n",
        "name_list[0:2]"
      ],
      "metadata": {
        "colab": {
          "base_uri": "https://localhost:8080/"
        },
        "id": "odwAyfMb1cWk",
        "outputId": "42019eeb-eb59-49c7-c446-fe24ddab21d1"
      },
      "execution_count": 5,
      "outputs": [
        {
          "output_type": "execute_result",
          "data": {
            "text/plain": [
              "['Ali', 'Jack']"
            ]
          },
          "metadata": {},
          "execution_count": 5
        }
      ]
    },
    {
      "cell_type": "code",
      "source": [
        "comb_list[1:-1]"
      ],
      "metadata": {
        "colab": {
          "base_uri": "https://localhost:8080/"
        },
        "id": "201u0h521enS",
        "outputId": "e06f3449-0197-4fe5-d0e2-8b7969eaeeb7"
      },
      "execution_count": 9,
      "outputs": [
        {
          "output_type": "execute_result",
          "data": {
            "text/plain": [
              "['Sam', 31, True]"
            ]
          },
          "metadata": {},
          "execution_count": 9
        }
      ]
    },
    {
      "cell_type": "code",
      "source": [
        "comb_list[1:]\n",
        "comb_list[2] = 3.145\n",
        "print(comb_list)"
      ],
      "metadata": {
        "colab": {
          "base_uri": "https://localhost:8080/"
        },
        "id": "jai1juWJ2QRu",
        "outputId": "ed38ce9c-c9d8-4c8b-e113-36c96d3feb06"
      },
      "execution_count": 11,
      "outputs": [
        {
          "output_type": "stream",
          "name": "stdout",
          "text": [
            "[3.4, 'Sam', 3.145, True, 'Dlnia']\n"
          ]
        }
      ]
    },
    {
      "cell_type": "code",
      "source": [
        "name_list + comb_list"
      ],
      "metadata": {
        "colab": {
          "base_uri": "https://localhost:8080/"
        },
        "id": "QILViiFn2ryl",
        "outputId": "492f4b8d-37e7-428d-cf01-5e820a6d07a5"
      },
      "execution_count": 12,
      "outputs": [
        {
          "output_type": "execute_result",
          "data": {
            "text/plain": [
              "['Ali', 'Jack', 'Jane', 'Joe', 3.4, 'Sam', 3.145, True, 'Dlnia']"
            ]
          },
          "metadata": {},
          "execution_count": 12
        }
      ]
    },
    {
      "cell_type": "code",
      "source": [
        "list_to_list = [[34, 'Sam', 3.1415, True], [32, 41]]\n",
        "list_to_list [0][2]\n",
        "list_to_list [1][1]"
      ],
      "metadata": {
        "colab": {
          "base_uri": "https://localhost:8080/"
        },
        "id": "M69xXU5e3Hzt",
        "outputId": "bffcc34c-1e4a-41be-e07d-9478fe797b21"
      },
      "execution_count": 15,
      "outputs": [
        {
          "output_type": "execute_result",
          "data": {
            "text/plain": [
              "41"
            ]
          },
          "metadata": {},
          "execution_count": 15
        }
      ]
    },
    {
      "cell_type": "code",
      "source": [
        "max(num_list)\n",
        "min(num_list)"
      ],
      "metadata": {
        "colab": {
          "base_uri": "https://localhost:8080/"
        },
        "id": "mFICxlMb3ptP",
        "outputId": "a4dd4ee5-1c28-4f04-c895-8b085c2db991"
      },
      "execution_count": 17,
      "outputs": [
        {
          "output_type": "execute_result",
          "data": {
            "text/plain": [
              "3"
            ]
          },
          "metadata": {},
          "execution_count": 17
        }
      ]
    },
    {
      "cell_type": "code",
      "source": [
        "'Ali' in name_list"
      ],
      "metadata": {
        "colab": {
          "base_uri": "https://localhost:8080/"
        },
        "id": "7uNz2OwE4GSe",
        "outputId": "40968e02-bcf6-4180-df0a-4f9363da9f00"
      },
      "execution_count": 19,
      "outputs": [
        {
          "output_type": "execute_result",
          "data": {
            "text/plain": [
              "True"
            ]
          },
          "metadata": {},
          "execution_count": 19
        }
      ]
    },
    {
      "cell_type": "code",
      "source": [
        "cat = ['Persian', 'White', 'Blue']\n",
        "#breed = cat[0]\n",
        "#color = cat[1]\n",
        "#eye_color = cat[2]\n",
        "breed, color, eye_color = cat"
      ],
      "metadata": {
        "id": "5xW21cjt4YJx"
      },
      "execution_count": 20,
      "outputs": []
    },
    {
      "cell_type": "code",
      "source": [
        "breed, color, eye_color"
      ],
      "metadata": {
        "colab": {
          "base_uri": "https://localhost:8080/"
        },
        "id": "tBEX32IQ5DBw",
        "outputId": "4fc6a6c1-340c-48e6-8e93-0110f39be47a"
      },
      "execution_count": 21,
      "outputs": [
        {
          "output_type": "execute_result",
          "data": {
            "text/plain": [
              "('Persian', 'White', 'Blue')"
            ]
          },
          "metadata": {},
          "execution_count": 21
        }
      ]
    },
    {
      "cell_type": "code",
      "source": [
        "simple_tuple = (\"Ali\", 344, 32.5)"
      ],
      "metadata": {
        "id": "3ppqWapd5Jbr"
      },
      "execution_count": 22,
      "outputs": []
    },
    {
      "cell_type": "code",
      "source": [
        "simple_tuple[0]"
      ],
      "metadata": {
        "colab": {
          "base_uri": "https://localhost:8080/",
          "height": 35
        },
        "id": "azvf_ag65pZU",
        "outputId": "64622903-23f9-4121-f598-0ed9bb9b8a8e"
      },
      "execution_count": 26,
      "outputs": [
        {
          "output_type": "execute_result",
          "data": {
            "text/plain": [
              "'Ali'"
            ],
            "application/vnd.google.colaboratory.intrinsic+json": {
              "type": "string"
            }
          },
          "metadata": {},
          "execution_count": 26
        }
      ]
    },
    {
      "cell_type": "code",
      "source": [
        "import random\n",
        "def simple_function(first_name, last_name, guess_age=False):\n",
        "  full_name = first_name + ' ' + last_name\n",
        "  if guess_age:\n",
        "    age = random.randint(10, 50)\n",
        "  else:\n",
        "    age = None\n",
        "  return full_name, age"
      ],
      "metadata": {
        "id": "8x_mEI-A54o2"
      },
      "execution_count": 27,
      "outputs": []
    },
    {
      "cell_type": "code",
      "source": [
        "out = simple_function('Jimmy', 'Jambo', guess_age=True)\n",
        "print(out)"
      ],
      "metadata": {
        "colab": {
          "base_uri": "https://localhost:8080/"
        },
        "id": "Iv9Y3aOi7C5V",
        "outputId": "a03accb0-ee88-40ea-dc8d-bce96daf5e8a"
      },
      "execution_count": 29,
      "outputs": [
        {
          "output_type": "stream",
          "name": "stdout",
          "text": [
            "('Jimmy Jambo', 14)\n"
          ]
        }
      ]
    },
    {
      "cell_type": "code",
      "source": [
        "i = 0\n",
        "for item in comb_list:\n",
        "  print(f\"{i} ---->{item}\")\n",
        "  #i = i + 1\n",
        "  i += 1"
      ],
      "metadata": {
        "colab": {
          "base_uri": "https://localhost:8080/"
        },
        "id": "fDjg3wjk7V-A",
        "outputId": "8de0d27b-1c50-4073-e71d-04392de0b827"
      },
      "execution_count": 31,
      "outputs": [
        {
          "output_type": "stream",
          "name": "stdout",
          "text": [
            "0 ---->3.4\n",
            "1 ---->Sam\n",
            "2 ---->3.145\n",
            "3 ---->True\n",
            "4 ---->Dlnia\n"
          ]
        }
      ]
    },
    {
      "cell_type": "code",
      "source": [
        "for ind, item in enumerate(comb_list):\n",
        "  print(f\"{ind} ----> {item}\")"
      ],
      "metadata": {
        "colab": {
          "base_uri": "https://localhost:8080/"
        },
        "id": "zHBnyDb07p6k",
        "outputId": "647b5263-f4b0-460e-9aa9-32eb3483095c"
      },
      "execution_count": 32,
      "outputs": [
        {
          "output_type": "stream",
          "name": "stdout",
          "text": [
            "0 ----> 3.4\n",
            "1 ----> Sam\n",
            "2 ----> 3.145\n",
            "3 ----> True\n",
            "4 ----> Dlnia\n"
          ]
        }
      ]
    },
    {
      "cell_type": "code",
      "source": [
        "list(enumerate(comb_list))"
      ],
      "metadata": {
        "colab": {
          "base_uri": "https://localhost:8080/"
        },
        "id": "ztXil3QI8_c6",
        "outputId": "2430c073-2cbe-4d7a-b35e-15aa0bad8289"
      },
      "execution_count": 33,
      "outputs": [
        {
          "output_type": "execute_result",
          "data": {
            "text/plain": [
              "[(0, 3.4), (1, 'Sam'), (2, 3.145), (3, True), (4, 'Dlnia')]"
            ]
          },
          "metadata": {},
          "execution_count": 33
        }
      ]
    },
    {
      "cell_type": "code",
      "source": [
        "index = [1, 2, 3, 4, 5]\n",
        "names = ['A1', 'A2', 'A3', 'A4', 'A5']\n",
        "names_2 = ['B1', 'B2', 'B3', 'B4', 'B5']\n",
        "for ind, name, name_2 in zip(index, names, names_2):\n",
        "  print(f\"Index {ind} ---> {name}, {name_2}\")\n"
      ],
      "metadata": {
        "colab": {
          "base_uri": "https://localhost:8080/"
        },
        "id": "uBa1BcpI9YF4",
        "outputId": "4e833d9a-cdf1-4c2d-d5d3-22dc8dfcaad8"
      },
      "execution_count": 34,
      "outputs": [
        {
          "output_type": "stream",
          "name": "stdout",
          "text": [
            "Index 1 ---> A1, B1\n",
            "Index 2 ---> A2, B2\n",
            "Index 3 ---> A3, B3\n",
            "Index 4 ---> A4, B4\n",
            "Index 5 ---> A5, B5\n"
          ]
        }
      ]
    },
    {
      "cell_type": "code",
      "source": [
        "list(zip(index, names, names_2))"
      ],
      "metadata": {
        "colab": {
          "base_uri": "https://localhost:8080/"
        },
        "id": "CSQI3nqzFAXT",
        "outputId": "8f453ac5-9540-486c-aac1-b7097eb686d7"
      },
      "execution_count": 35,
      "outputs": [
        {
          "output_type": "execute_result",
          "data": {
            "text/plain": [
              "[(1, 'A1', 'B1'),\n",
              " (2, 'A2', 'B2'),\n",
              " (3, 'A3', 'B3'),\n",
              " (4, 'A4', 'B4'),\n",
              " (5, 'A5', 'B5')]"
            ]
          },
          "metadata": {},
          "execution_count": 35
        }
      ]
    },
    {
      "cell_type": "code",
      "source": [
        "name_list = ['Ali', 'Jack', 'Jane', 'Joe']"
      ],
      "metadata": {
        "id": "U9-H_Yj7FTEU"
      },
      "execution_count": 50,
      "outputs": []
    },
    {
      "cell_type": "code",
      "source": [
        "name_list.index('Ali')\n",
        "name_list.append('Dlnia')\n",
        "name_list.remove('Jack')\n",
        "print(name_list)"
      ],
      "metadata": {
        "colab": {
          "base_uri": "https://localhost:8080/"
        },
        "id": "o_55udgFFxWt",
        "outputId": "900c1f21-587d-44ed-e925-e9274c557da7"
      },
      "execution_count": 51,
      "outputs": [
        {
          "output_type": "stream",
          "name": "stdout",
          "text": [
            "['Ali', 'Jane', 'Joe', 'Dlnia']\n"
          ]
        }
      ]
    },
    {
      "cell_type": "code",
      "source": [
        "name_list.sort(reverse=True)"
      ],
      "metadata": {
        "id": "uUqfxwaXF3bZ"
      },
      "execution_count": 52,
      "outputs": []
    },
    {
      "cell_type": "code",
      "source": [
        "name_list"
      ],
      "metadata": {
        "colab": {
          "base_uri": "https://localhost:8080/"
        },
        "id": "VkMBZY3qGE1Q",
        "outputId": "a793de5a-5e9c-4635-e5f2-137c028f6a67"
      },
      "execution_count": 53,
      "outputs": [
        {
          "output_type": "execute_result",
          "data": {
            "text/plain": [
              "['Joe', 'Jane', 'Dlnia', 'Ali']"
            ]
          },
          "metadata": {},
          "execution_count": 53
        }
      ]
    },
    {
      "cell_type": "code",
      "source": [
        "name_list.count('Ali')"
      ],
      "metadata": {
        "colab": {
          "base_uri": "https://localhost:8080/"
        },
        "id": "6Ah74RejGUuS",
        "outputId": "8f9a79f4-1f4a-414c-f7e1-244c65253cb0"
      },
      "execution_count": 57,
      "outputs": [
        {
          "output_type": "execute_result",
          "data": {
            "text/plain": [
              "1"
            ]
          },
          "metadata": {},
          "execution_count": 57
        }
      ]
    },
    {
      "cell_type": "code",
      "source": [
        "even_num = [] #اعداد زوج 0 تا 20\n",
        "for i in range(11):\n",
        "  even_num.append(i*2)\n",
        "\n",
        "print(even_num)"
      ],
      "metadata": {
        "colab": {
          "base_uri": "https://localhost:8080/"
        },
        "id": "G14q4jFzHH08",
        "outputId": "4ee440f2-ea6b-4907-fdb4-c98597697716"
      },
      "execution_count": 59,
      "outputs": [
        {
          "output_type": "stream",
          "name": "stdout",
          "text": [
            "[0, 2, 4, 6, 8, 10, 12, 14, 16, 18, 20]\n"
          ]
        }
      ]
    },
    {
      "cell_type": "code",
      "source": [
        "even_num1 = [i*2 for i in range(11)] #generate even number in 0 to 20!\n",
        "print(even_num1)"
      ],
      "metadata": {
        "colab": {
          "base_uri": "https://localhost:8080/"
        },
        "id": "r_HFavcfHyI1",
        "outputId": "63274c29-6ae3-44dd-919a-3efbf0e6064f"
      },
      "execution_count": 61,
      "outputs": [
        {
          "output_type": "stream",
          "name": "stdout",
          "text": [
            "[0, 2, 4, 6, 8, 10, 12, 14, 16, 18, 20]\n"
          ]
        }
      ]
    },
    {
      "cell_type": "code",
      "source": [
        "a_1 = \"Kitty\"\n",
        "a_2 = a_1\n",
        "a_2 =\"Puppy\""
      ],
      "metadata": {
        "id": "O9D_Bt9mIZaJ"
      },
      "execution_count": 64,
      "outputs": []
    },
    {
      "cell_type": "code",
      "source": [
        "print(a_1)\n",
        "print(a_2)"
      ],
      "metadata": {
        "colab": {
          "base_uri": "https://localhost:8080/"
        },
        "id": "OeecvtA5JHdq",
        "outputId": "e89ab122-bd28-4023-9a35-338439dabc55"
      },
      "execution_count": 65,
      "outputs": [
        {
          "output_type": "stream",
          "name": "stdout",
          "text": [
            "Kitty\n",
            "Puppy\n"
          ]
        }
      ]
    },
    {
      "cell_type": "code",
      "source": [
        "list_1 = [25, 14, 45, 93]\n",
        "list_2 = list_1\n",
        "list_2[1] = \"Bambooo\""
      ],
      "metadata": {
        "id": "s5dJrvcSJLmS"
      },
      "execution_count": 74,
      "outputs": []
    },
    {
      "cell_type": "code",
      "source": [
        "print(list_1)\n",
        "print(list_2)"
      ],
      "metadata": {
        "colab": {
          "base_uri": "https://localhost:8080/"
        },
        "id": "0ydP8jkbJjSa",
        "outputId": "3e770aae-32b3-439e-816d-efafe72ec098"
      },
      "execution_count": 75,
      "outputs": [
        {
          "output_type": "stream",
          "name": "stdout",
          "text": [
            "[25, 'Bambooo', 45, 93]\n",
            "[25, 'Bambooo', 45, 93]\n"
          ]
        }
      ]
    },
    {
      "cell_type": "code",
      "source": [
        "list_1 = [25, 14, 45, 93]\n",
        "list_2 = list_1 [:] #یک آدرس جدید از حافظه به لیست 2 اختصاص می دهد!\n",
        "list_2[1] = \"Bambooo\""
      ],
      "metadata": {
        "id": "Fkfl-AoqJpr9"
      },
      "execution_count": 77,
      "outputs": []
    },
    {
      "cell_type": "code",
      "source": [
        "print(list_1)\n",
        "print(list_2)\n",
        "print(id(list_1))\n",
        "print(id(list_2))"
      ],
      "metadata": {
        "colab": {
          "base_uri": "https://localhost:8080/"
        },
        "id": "rzkbPmhGKwhM",
        "outputId": "3d0672ae-404a-4bdd-ef98-8635131f16b7"
      },
      "execution_count": 80,
      "outputs": [
        {
          "output_type": "stream",
          "name": "stdout",
          "text": [
            "[25, 14, 45, 93]\n",
            "[25, 'Bambooo', 45, 93]\n",
            "140590571326912\n",
            "140590570196608\n"
          ]
        }
      ]
    },
    {
      "cell_type": "code",
      "source": [
        "def get_odds(num_list: list):\n",
        "  for num in num_list:\n",
        "    if num % 2 == 0:\n",
        "      num_list.remove(num)\n",
        "  return num_list"
      ],
      "metadata": {
        "id": "wBNHE9VCKz8d"
      },
      "execution_count": 81,
      "outputs": []
    },
    {
      "cell_type": "code",
      "source": [
        "my_list = [3, 5, 6, 78]\n",
        "print(f\"my_list before function call \\t--> {my_list}\")\n",
        "\n",
        "my_list_odd = get_odds(my_list[:])\n",
        "\n",
        "print(f\"my_list_odd \\t\\t\\t--> {my_list_odd}\")\n",
        "print(f\"my_list after function call \\t--> {my_list}\")\n"
      ],
      "metadata": {
        "colab": {
          "base_uri": "https://localhost:8080/"
        },
        "id": "jb4FHq-7MbUn",
        "outputId": "3a920bc4-e3ef-4916-ed8d-9d2a7b7c4c30"
      },
      "execution_count": 84,
      "outputs": [
        {
          "output_type": "stream",
          "name": "stdout",
          "text": [
            "my_list before function call \t--> [3, 5, 6, 78]\n",
            "my_list_odd \t\t\t--> [3, 5, 78]\n",
            "my_list after function call \t--> [3, 5, 6, 78]\n"
          ]
        }
      ]
    },
    {
      "cell_type": "code",
      "source": [
        "name = 'ali khosravi'\n",
        "name[2]"
      ],
      "metadata": {
        "colab": {
          "base_uri": "https://localhost:8080/",
          "height": 35
        },
        "id": "nc4ylx1yNLqw",
        "outputId": "61b57433-6256-4907-dea6-2bcb5ab46b9b"
      },
      "execution_count": 90,
      "outputs": [
        {
          "output_type": "execute_result",
          "data": {
            "text/plain": [
              "'i'"
            ],
            "application/vnd.google.colaboratory.intrinsic+json": {
              "type": "string"
            }
          },
          "metadata": {},
          "execution_count": 90
        }
      ]
    },
    {
      "cell_type": "code",
      "source": [
        "print(name.title())\n",
        "print(name.upper())\n",
        "print(name[0].isupper())\n",
        "print(name[0])\n",
        "print(name.split())\n",
        "print(name.startswith('al'))"
      ],
      "metadata": {
        "colab": {
          "base_uri": "https://localhost:8080/"
        },
        "id": "J1YH_DLCOR42",
        "outputId": "0670b492-5192-4ff4-979f-c3ee1e44c5d3"
      },
      "execution_count": 98,
      "outputs": [
        {
          "output_type": "stream",
          "name": "stdout",
          "text": [
            "Ali Khosravi\n",
            "ALI KHOSRAVI\n",
            "False\n",
            "a\n",
            "['ali', 'khosravi']\n",
            "True\n"
          ]
        }
      ]
    },
    {
      "cell_type": "code",
      "source": [],
      "metadata": {
        "id": "KtvS4BffP8uJ"
      },
      "execution_count": null,
      "outputs": []
    }
  ]
}