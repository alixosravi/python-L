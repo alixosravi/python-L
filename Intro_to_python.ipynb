{
  "nbformat": 4,
  "nbformat_minor": 0,
  "metadata": {
    "colab": {
      "provenance": [],
      "authorship_tag": "ABX9TyOc1oQezZtugN+EMcRxnD7b",
      "include_colab_link": true
    },
    "kernelspec": {
      "name": "python3",
      "display_name": "Python 3"
    },
    "language_info": {
      "name": "python"
    }
  },
  "cells": [
    {
      "cell_type": "markdown",
      "metadata": {
        "id": "view-in-github",
        "colab_type": "text"
      },
      "source": [
        "<a href=\"https://colab.research.google.com/github/alixosravi/python-L/blob/main/Intro_to_python.ipynb\" target=\"_parent\"><img src=\"https://colab.research.google.com/assets/colab-badge.svg\" alt=\"Open In Colab\"/></a>"
      ]
    },
    {
      "cell_type": "code",
      "execution_count": null,
      "metadata": {
        "colab": {
          "base_uri": "https://localhost:8080/",
          "height": 35
        },
        "id": "oR3jRDK2RW89",
        "outputId": "49decb4c-4ddd-4b77-9e02-c61776efc7bc"
      },
      "outputs": [
        {
          "output_type": "execute_result",
          "data": {
            "text/plain": [
              "'ali khosravi'"
            ],
            "application/vnd.google.colaboratory.intrinsic+json": {
              "type": "string"
            }
          },
          "metadata": {},
          "execution_count": 7
        }
      ],
      "source": [
        "'ali '+'khosravi'"
      ]
    },
    {
      "cell_type": "code",
      "source": [
        "first_name = 'Ali'\n",
        "last_name ='Khosravi'\n",
        "win_ver = 11\n",
        "build_num = 1945654.65245\n",
        "\n",
        "x, y, z =34, 4.5, 1.234\n",
        "x, y, z"
      ],
      "metadata": {
        "colab": {
          "base_uri": "https://localhost:8080/"
        },
        "id": "inNyhHinSy19",
        "outputId": "e99db2d8-0f32-4a0a-e3d4-46d33ea31fdb"
      },
      "execution_count": null,
      "outputs": [
        {
          "output_type": "execute_result",
          "data": {
            "text/plain": [
              "(34, 4.5, 1.234)"
            ]
          },
          "metadata": {},
          "execution_count": 13
        }
      ]
    },
    {
      "cell_type": "code",
      "source": [
        "full_name = first_name + ' ' + last_name\n",
        "full_name"
      ],
      "metadata": {
        "colab": {
          "base_uri": "https://localhost:8080/",
          "height": 35
        },
        "id": "Wlo9X_tkTctk",
        "outputId": "978376b8-7460-469b-aa11-c15252992d2e"
      },
      "execution_count": null,
      "outputs": [
        {
          "output_type": "execute_result",
          "data": {
            "text/plain": [
              "'Ali Khosravi'"
            ],
            "application/vnd.google.colaboratory.intrinsic+json": {
              "type": "string"
            }
          },
          "metadata": {},
          "execution_count": 9
        }
      ]
    },
    {
      "cell_type": "code",
      "source": [
        "print(full_name)"
      ],
      "metadata": {
        "colab": {
          "base_uri": "https://localhost:8080/"
        },
        "id": "u8Dld7hTTsg7",
        "outputId": "5376307c-2348-47d7-eabd-ff8c8f0cd39f"
      },
      "execution_count": null,
      "outputs": [
        {
          "output_type": "stream",
          "name": "stdout",
          "text": [
            "Ali Khosravi\n"
          ]
        }
      ]
    },
    {
      "cell_type": "code",
      "source": [
        "message = f'{first_name} is using windows {win_ver} build: {build_num:0.2f}'\n",
        "print(message)"
      ],
      "metadata": {
        "colab": {
          "base_uri": "https://localhost:8080/"
        },
        "id": "3DrXlFvQUBKt",
        "outputId": "ace07a20-55db-4535-cb7d-46107edfca24"
      },
      "execution_count": null,
      "outputs": [
        {
          "output_type": "stream",
          "name": "stdout",
          "text": [
            "Ali is using windows 11 build: 1945654.65\n"
          ]
        }
      ]
    },
    {
      "cell_type": "code",
      "source": [
        "input_name = input('Enter your name:')\n",
        "print(f'Hello {input_name}')"
      ],
      "metadata": {
        "colab": {
          "base_uri": "https://localhost:8080/"
        },
        "id": "DHZ09-9zVTez",
        "outputId": "62fe23dd-06a6-4a8e-e4b1-b136e0a5d7c9"
      },
      "execution_count": null,
      "outputs": [
        {
          "output_type": "stream",
          "name": "stdout",
          "text": [
            "Enter your name:ali\n",
            "Hello ali\n"
          ]
        }
      ]
    },
    {
      "cell_type": "code",
      "source": [
        "float(9599)"
      ],
      "metadata": {
        "colab": {
          "base_uri": "https://localhost:8080/"
        },
        "id": "tt9QYjfIWQlN",
        "outputId": "251e7e97-bc46-4751-b2f1-c0fa924b19c4"
      },
      "execution_count": null,
      "outputs": [
        {
          "output_type": "execute_result",
          "data": {
            "text/plain": [
              "9599.0"
            ]
          },
          "metadata": {},
          "execution_count": 22
        }
      ]
    },
    {
      "cell_type": "code",
      "source": [
        "number_of_pets =int(input('How many pets do you have?'))\n",
        "print(f'I guess you have {number_of_pets//2} dogs!')"
      ],
      "metadata": {
        "colab": {
          "base_uri": "https://localhost:8080/"
        },
        "id": "_liIUeRSXJ0i",
        "outputId": "2c2460ed-9537-439e-c9cd-7e8ff080e0a0"
      },
      "execution_count": null,
      "outputs": [
        {
          "output_type": "stream",
          "name": "stdout",
          "text": [
            "How many pets do you have?4\n",
            "I guess you have 2 dogs!\n"
          ]
        }
      ]
    },
    {
      "cell_type": "code",
      "source": [],
      "metadata": {
        "colab": {
          "base_uri": "https://localhost:8080/"
        },
        "id": "VBqPgRWkY3s_",
        "outputId": "c6739b3c-d9ba-4021-c22e-8758a20d5526"
      },
      "execution_count": null,
      "outputs": [
        {
          "output_type": "stream",
          "name": "stdout",
          "text": [
            "False\n"
          ]
        }
      ]
    },
    {
      "cell_type": "code",
      "source": [
        "p_cat =0.5\n",
        "p_dog =0.5\n",
        "\n",
        "if p_cat > p_dog:\n",
        "  print(\"It's a cat!\")\n",
        "elif p_cat < p_dog:\n",
        "  print(\"It's a dag!\")\n",
        "else:\n",
        "  print(\"I can't decide :(\")"
      ],
      "metadata": {
        "colab": {
          "base_uri": "https://localhost:8080/"
        },
        "id": "zyG95pRxZTAG",
        "outputId": "4ebf4b59-0be3-4d96-ee54-9917a346923c"
      },
      "execution_count": null,
      "outputs": [
        {
          "output_type": "stream",
          "name": "stdout",
          "text": [
            "I can't decide :(\n"
          ]
        }
      ]
    },
    {
      "cell_type": "code",
      "source": [
        "while True:\n",
        "  input_str =input(\"Enter p_cat:\")\n",
        "  if input_str == \"exit\":\n",
        "    break\n",
        "\n",
        "  p_cat = float(input_str)\n",
        "  if (p_cat <0) or (p_cat >0):\n",
        "    print('p_cat must be between 0 and 1')\n",
        "    continue\n",
        "    \n",
        "  p_dog = 1 - p_cat\n",
        "\n",
        "  if p_cat > p_dog:\n",
        "    print(\"It's a cat!\")\n",
        "  elif p_cat < p_dog:\n",
        "    print(\"It's a dag!\")\n",
        "  else:\n",
        "    print(\"I can't decide :(\")"
      ],
      "metadata": {
        "colab": {
          "base_uri": "https://localhost:8080/"
        },
        "id": "HO38xmYkc2Ch",
        "outputId": "69063327-c902-4c5a-9808-01d7111f5ffe"
      },
      "execution_count": null,
      "outputs": [
        {
          "name": "stdout",
          "output_type": "stream",
          "text": [
            "Enter p_cat:0.9\n",
            "p_cat must be between 0 and 1\n",
            "Enter p_cat:5545\n",
            "p_cat must be between 0 and 1\n",
            "Enter p_cat:-666\n",
            "p_cat must be between 0 and 1\n",
            "Enter p_cat:exit\n"
          ]
        }
      ]
    },
    {
      "cell_type": "code",
      "source": [
        "for i in range(6, -5,-1):\n",
        "  print(i)"
      ],
      "metadata": {
        "colab": {
          "base_uri": "https://localhost:8080/"
        },
        "id": "Avi45N5UeF4l",
        "outputId": "c142f553-b79a-4f09-ab12-8413f5b05e75"
      },
      "execution_count": null,
      "outputs": [
        {
          "output_type": "stream",
          "name": "stdout",
          "text": [
            "6\n",
            "5\n",
            "4\n",
            "3\n",
            "2\n",
            "1\n",
            "0\n",
            "-1\n",
            "-2\n",
            "-3\n",
            "-4\n"
          ]
        }
      ]
    },
    {
      "cell_type": "code",
      "source": [
        "for _ in range(3):\n",
        "  print(_)"
      ],
      "metadata": {
        "colab": {
          "base_uri": "https://localhost:8080/"
        },
        "id": "iHfbCMD6hC3E",
        "outputId": "1e61211f-a6d2-4456-e1c2-8fd35aa457b0"
      },
      "execution_count": null,
      "outputs": [
        {
          "output_type": "stream",
          "name": "stdout",
          "text": [
            "0\n",
            "1\n",
            "2\n"
          ]
        }
      ]
    },
    {
      "cell_type": "code",
      "source": [
        "for _ in range(3):\n",
        "  print(\"I like python!\")"
      ],
      "metadata": {
        "colab": {
          "base_uri": "https://localhost:8080/"
        },
        "id": "YobuDltzh5vq",
        "outputId": "1b0fffa0-d212-4189-99a3-ffbb573b709b"
      },
      "execution_count": null,
      "outputs": [
        {
          "output_type": "stream",
          "name": "stdout",
          "text": [
            "I like python!\n",
            "I like python!\n",
            "I like python!\n"
          ]
        }
      ]
    },
    {
      "cell_type": "code",
      "source": [
        "def print_hello(name):\n",
        "  '''\n",
        "  Simple function to print name\n",
        "  input: name\n",
        "  '''\n",
        "  # Simple function to print name\n",
        "  print(f\"Hello! {name}\")\n",
        "\n",
        "print_hello(\"Ali\")"
      ],
      "metadata": {
        "colab": {
          "base_uri": "https://localhost:8080/"
        },
        "id": "mqh9yCUIiG9p",
        "outputId": "68e079a9-cd21-4160-b826-9279a8f24b1b"
      },
      "execution_count": null,
      "outputs": [
        {
          "output_type": "stream",
          "name": "stdout",
          "text": [
            "Hello! Ali\n"
          ]
        }
      ]
    },
    {
      "cell_type": "code",
      "source": [
        "def prob_to_name(p_cat, owner=\"Ali\"):\n",
        "  if  p_cat > 0.5:\n",
        "    prediction = 'Cat'\n",
        "  elif p_cat < 0.5:\n",
        "    prediction = 'Dog'\n",
        "  else:\n",
        "    prediction = \"Unknown\"\n",
        "  print(f\"{owner} has a {prediction}\")\n"
      ],
      "metadata": {
        "id": "uSUzADTvkoPZ"
      },
      "execution_count": null,
      "outputs": []
    },
    {
      "cell_type": "code",
      "source": [
        "prob_to_name(0.8)"
      ],
      "metadata": {
        "colab": {
          "base_uri": "https://localhost:8080/"
        },
        "id": "kuA1lpeanB_V",
        "outputId": "9d498400-89a4-4e5b-bfb4-8362eda22f33"
      },
      "execution_count": null,
      "outputs": [
        {
          "output_type": "stream",
          "name": "stdout",
          "text": [
            "Ali has a Cat\n"
          ]
        }
      ]
    },
    {
      "cell_type": "code",
      "source": [],
      "metadata": {
        "id": "obAJIoZCnGCP"
      },
      "execution_count": null,
      "outputs": []
    }
  ]
}